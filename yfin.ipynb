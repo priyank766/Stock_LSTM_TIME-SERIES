{
 "cells": [
  {
   "cell_type": "code",
   "execution_count": 1,
   "id": "bcc052c6",
   "metadata": {},
   "outputs": [],
   "source": [
    "import yfinance\n",
    "import pandas \n",
    "import tensorflow as tf"
   ]
  },
  {
   "cell_type": "code",
   "execution_count": 8,
   "id": "cf9f0bca",
   "metadata": {},
   "outputs": [],
   "source": [
    "apple = yfinance.Ticker('AAPL')"
   ]
  },
  {
   "cell_type": "code",
   "execution_count": 9,
   "id": "3219f7ae",
   "metadata": {},
   "outputs": [],
   "source": [
    "data = apple.history(period='5y')"
   ]
  },
  {
   "cell_type": "code",
   "execution_count": 10,
   "id": "40dd75b6",
   "metadata": {},
   "outputs": [],
   "source": [
    "data = pandas.DataFrame(data)\n",
    "data = data.reset_index()"
   ]
  },
  {
   "cell_type": "code",
   "execution_count": 11,
   "id": "98aa09fc",
   "metadata": {},
   "outputs": [],
   "source": [
    "data.to_csv('apple_stock_data.csv', index=False)"
   ]
  },
  {
   "cell_type": "code",
   "execution_count": null,
   "id": "20d9c83a",
   "metadata": {},
   "outputs": [],
   "source": []
  }
 ],
 "metadata": {
  "kernelspec": {
   "display_name": ".venv",
   "language": "python",
   "name": "python3"
  },
  "language_info": {
   "codemirror_mode": {
    "name": "ipython",
    "version": 3
   },
   "file_extension": ".py",
   "mimetype": "text/x-python",
   "name": "python",
   "nbconvert_exporter": "python",
   "pygments_lexer": "ipython3",
   "version": "3.10.0"
  }
 },
 "nbformat": 4,
 "nbformat_minor": 5
}
